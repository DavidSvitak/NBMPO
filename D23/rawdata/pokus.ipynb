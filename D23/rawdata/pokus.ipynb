{
 "cells": [
  {
   "cell_type": "code",
   "execution_count": null,
   "id": "c9620284",
   "metadata": {},
   "outputs": [],
   "source": [
    "import matplotlib.pyplot as plt\n",
    "import pandas as pd\n",
    "import numpy as np\n",
    "import re\n",
    "from scipy.interpolate import griddata"
   ]
  },
  {
   "cell_type": "code",
   "execution_count": 20,
   "id": "8c08b07a",
   "metadata": {},
   "outputs": [],
   "source": [
    "def prepare(file:str):\n",
    "    name = file.replace(\".dat\", \".txt\")\n",
    "    to_save = []\n",
    "    with open(f\"{file}\", \"r\") as txt_read:\n",
    "        for line in txt_read:\n",
    "            numbers = re.findall(r\"[-+]?\\d*\\.\\d+|\\d+\", line)\n",
    "            to_save.append(numbers)\n",
    "\n",
    "    with open(f\"field_scans/{name}\", \"w\") as txt:\n",
    "        for line in to_save:\n",
    "            for num in line:\n",
    "                txt.write(f\"{float(num)},\")\n",
    "            txt.write(\"\\n\")\n"
   ]
  },
  {
   "cell_type": "code",
   "execution_count": 21,
   "id": "ac15e5d9",
   "metadata": {},
   "outputs": [],
   "source": [
    "for i in range(92428, 92450):\n",
    "    if i == 92445 or i == 92447:\n",
    "        continue\n",
    "    file = f\"0{i}.dat\"\n",
    "    prepare(file)"
   ]
  },
  {
   "cell_type": "code",
   "execution_count": 29,
   "id": "2b71fcb8",
   "metadata": {},
   "outputs": [],
   "source": [
    "def make_map(i_start: int, i_stop: int, i_exclude: list[int] = [], title: str = \"\", x_label: str = \"\", y_axis: str = \"\", z_axis: str = \"\") -> None:\n",
    "    x_data = np.array([])\n",
    "    z_data = np.array([])\n",
    "    y_data = np.array([])\n",
    "    temperature = []\n",
    "\n",
    "    for i in range(i_start, i_stop+1):\n",
    "        if i in i_exclude:\n",
    "            continue\n",
    "        df = pd.read_csv(f\"field_scans/0{i}.txt\", names=[\"QH\", \"QK\", \"QL\", \"CNTS\", \"1\", \"2\", \"3\", \"4\", \"5\", \"6\", \"T\", \"H\", \"7\"], sep=\",\", dtype=np.float64)\n",
    "        x_data = np.append(x_data, df[\"QL\"])\n",
    "        z_data = np.append(z_data, df[\"CNTS\"])\n",
    "        y_data = np.append(y_data, df[\"H\"])\n",
    "        temperature.append(float(df[\"T\"][0]))\n",
    "\n",
    "    xi = np.linspace(x_data.min(), x_data.max(), 300)\n",
    "    yi = np.linspace(y_data.min(), y_data.max(), 300)\n",
    "    X, Y = np.meshgrid(xi, yi)\n",
    "\n",
    "    # 2. Interpolate z_data onto the grid\n",
    "    Z = griddata((x_data, y_data), z_data, (X, Y), method='cubic')  # 'linear' or 'nearest' are alternatives\n",
    "    plt.clf()\n",
    "    # 3. Plot as an image\n",
    "    im = plt.imshow(Z, extent=(xi.min(), xi.max(), yi.min(), yi.max()), origin='lower',\n",
    "                cmap='viridis', aspect='auto')\n",
    "    plt.colorbar(im, label=f\"{z_axis}\")\n",
    "    \n",
    "    tolerance = 0.01\n",
    "    all_close = np.allclose(temperature, temperature[0], rtol=0, atol=tolerance)\n",
    "    if all_close:\n",
    "        title = title.replace(\"{temp}\", str(temperature[0]))\n",
    "    plt.title(f\"{title}\")\n",
    "    plt.xlabel(f\"{x_label}\")\n",
    "    plt.ylabel(f\"{y_axis}\")\n",
    "    plt.savefig(f\"{title.strip()}.png\")\n"
   ]
  },
  {
   "cell_type": "code",
   "execution_count": 30,
   "id": "40a2f7d2",
   "metadata": {},
   "outputs": [
    {
     "name": "stderr",
     "output_type": "stream",
     "text": [
      "findfont: Generic family 'sans-serif' not found because none of the following families were found: Sans Serif, Arial, Helvetica, Lucida Grande, Bitstream Vera Sans\n",
      "findfont: Generic family 'sans-serif' not found because none of the following families were found: Sans Serif, Arial, Helvetica, Lucida Grande, Bitstream Vera Sans\n",
      "findfont: Generic family 'sans-serif' not found because none of the following families were found: Sans Serif, Arial, Helvetica, Lucida Grande, Bitstream Vera Sans\n",
      "findfont: Generic family 'sans-serif' not found because none of the following families were found: Sans Serif, Arial, Helvetica, Lucida Grande, Bitstream Vera Sans\n",
      "findfont: Generic family 'sans-serif' not found because none of the following families were found: Sans Serif, Arial, Helvetica, Lucida Grande, Bitstream Vera Sans\n",
      "findfont: Generic family 'sans-serif' not found because none of the following families were found: Sans Serif, Arial, Helvetica, Lucida Grande, Bitstream Vera Sans\n",
      "findfont: Generic family 'sans-serif' not found because none of the following families were found: Sans Serif, Arial, Helvetica, Lucida Grande, Bitstream Vera Sans\n",
      "findfont: Generic family 'sans-serif' not found because none of the following families were found: Sans Serif, Arial, Helvetica, Lucida Grande, Bitstream Vera Sans\n",
      "findfont: Generic family 'sans-serif' not found because none of the following families were found: Sans Serif, Arial, Helvetica, Lucida Grande, Bitstream Vera Sans\n",
      "findfont: Generic family 'sans-serif' not found because none of the following families were found: Sans Serif, Arial, Helvetica, Lucida Grande, Bitstream Vera Sans\n",
      "findfont: Generic family 'sans-serif' not found because none of the following families were found: Sans Serif, Arial, Helvetica, Lucida Grande, Bitstream Vera Sans\n",
      "findfont: Generic family 'sans-serif' not found because none of the following families were found: Sans Serif, Arial, Helvetica, Lucida Grande, Bitstream Vera Sans\n",
      "findfont: Generic family 'sans-serif' not found because none of the following families were found: Sans Serif, Arial, Helvetica, Lucida Grande, Bitstream Vera Sans\n",
      "findfont: Generic family 'sans-serif' not found because none of the following families were found: Sans Serif, Arial, Helvetica, Lucida Grande, Bitstream Vera Sans\n",
      "findfont: Generic family 'sans-serif' not found because none of the following families were found: Sans Serif, Arial, Helvetica, Lucida Grande, Bitstream Vera Sans\n",
      "findfont: Generic family 'sans-serif' not found because none of the following families were found: Sans Serif, Arial, Helvetica, Lucida Grande, Bitstream Vera Sans\n",
      "findfont: Generic family 'sans-serif' not found because none of the following families were found: Sans Serif, Arial, Helvetica, Lucida Grande, Bitstream Vera Sans\n",
      "findfont: Generic family 'sans-serif' not found because none of the following families were found: Sans Serif, Arial, Helvetica, Lucida Grande, Bitstream Vera Sans\n",
      "findfont: Generic family 'sans-serif' not found because none of the following families were found: Sans Serif, Arial, Helvetica, Lucida Grande, Bitstream Vera Sans\n",
      "findfont: Generic family 'sans-serif' not found because none of the following families were found: Sans Serif, Arial, Helvetica, Lucida Grande, Bitstream Vera Sans\n",
      "findfont: Generic family 'sans-serif' not found because none of the following families were found: Sans Serif, Arial, Helvetica, Lucida Grande, Bitstream Vera Sans\n",
      "findfont: Generic family 'sans-serif' not found because none of the following families were found: Sans Serif, Arial, Helvetica, Lucida Grande, Bitstream Vera Sans\n",
      "findfont: Generic family 'sans-serif' not found because none of the following families were found: Sans Serif, Arial, Helvetica, Lucida Grande, Bitstream Vera Sans\n",
      "findfont: Generic family 'sans-serif' not found because none of the following families were found: Sans Serif, Arial, Helvetica, Lucida Grande, Bitstream Vera Sans\n"
     ]
    }
   ],
   "source": [
    "make_map(92428, 92449, i_exclude=[92445, 92447], title=\"Scan at temperature {temp} K\", x_label=\"(1/3, 1/3, QL)\", y_axis=\"H (T)\", z_axis=\"Intensity (a.u.)\")"
   ]
  }
 ],
 "metadata": {
  "kernelspec": {
   "display_name": "Python 3",
   "language": "python",
   "name": "python3"
  },
  "language_info": {
   "codemirror_mode": {
    "name": "ipython",
    "version": 3
   },
   "file_extension": ".py",
   "mimetype": "text/x-python",
   "name": "python",
   "nbconvert_exporter": "python",
   "pygments_lexer": "ipython3",
   "version": "3.12.7"
  }
 },
 "nbformat": 4,
 "nbformat_minor": 5
}
